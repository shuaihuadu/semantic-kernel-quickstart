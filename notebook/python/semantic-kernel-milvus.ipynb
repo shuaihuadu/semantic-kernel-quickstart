{
 "cells": [
  {
   "cell_type": "code",
   "execution_count": 1,
   "metadata": {},
   "outputs": [
    {
     "name": "stdout",
     "output_type": "stream",
     "text": [
      "test_id1\n",
      "sample text 1\n",
      "False\n",
      "[0.25 0.75]\n",
      "descrpition\n",
      "external resource\n",
      "additional metadata\n",
      "timestamp\n"
     ]
    }
   ],
   "source": [
    "from semantic_kernel.connectors.memory.milvus import MilvusMemoryStore\n",
    "\n",
    "from semantic_kernel.memory.memory_record import MemoryRecord\n",
    "\n",
    "import numpy as np\n",
    "\n",
    "memory_record = MemoryRecord(\n",
    "    id=\"test_id1\",\n",
    "    text=\"sample text 1\",\n",
    "    is_reference=False,\n",
    "    embedding=np.array([0.25, 0.75]),\n",
    "    description=\"descrpition\",\n",
    "    external_source_name=\"external resource\",\n",
    "    additional_metadata=\"additional metadata\",\n",
    "    timestamp=\"timestamp\",\n",
    ")\n",
    "\n",
    "memory = MilvusMemoryStore(uri=\"http://192.168.186.129:19530\")\n",
    "\n",
    "await memory.create_collection_async(\"test_collection\", 2)\n",
    "\n",
    "await memory.get_collections_async()\n",
    "\n",
    "await memory.upsert_async(\"test_collection\", memory_record)\n",
    "\n",
    "result = await memory.get_async(\"test_collection\", \"test_id1\", True)\n",
    "\n",
    "print(result._id)\n",
    "print(result._text)\n",
    "print(result._is_reference)\n",
    "print(result.embedding)\n",
    "print(result._description)\n",
    "print(result._external_source_name)\n",
    "print(result._additional_metadata)\n",
    "print(result._timestamp)\n"
   ]
  }
 ],
 "metadata": {
  "kernelspec": {
   "display_name": "Python 3",
   "language": "python",
   "name": "python3"
  },
  "language_info": {
   "codemirror_mode": {
    "name": "ipython",
    "version": 3
   },
   "file_extension": ".py",
   "mimetype": "text/x-python",
   "name": "python",
   "nbconvert_exporter": "python",
   "pygments_lexer": "ipython3",
   "version": "3.11.5"
  },
  "orig_nbformat": 4
 },
 "nbformat": 4,
 "nbformat_minor": 2
}
